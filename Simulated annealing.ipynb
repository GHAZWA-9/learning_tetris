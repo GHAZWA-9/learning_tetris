{
 "cells": [
  {
   "cell_type": "markdown",
   "metadata": {},
   "source": [
    "# Simulated Annealing for Tetris Optimization"
   ]
  },
  {
   "cell_type": "code",
   "execution_count": 3,
   "metadata": {},
   "outputs": [],
   "source": [
    "import numpy as np\n",
    "import math\n",
    "import os\n",
    "os.chdir('C:/Users/USER/Desktop/Tetris/learning_tetris/game_code')\n",
    "from game_simulation import *"
   ]
  },
  {
   "cell_type": "code",
   "execution_count": null,
   "metadata": {},
   "outputs": [],
   "source": [
    "import random\n",
    "from math import *\n",
    "import numpy as np\n",
    "from scipy import stats\n",
    "import game_simulation\n",
    "\n",
    "\n",
    "\n",
    "def simulation_SA(N_iteration, step_size, temp):\n",
    "    learning_curve = []\n",
    "    \n",
    "    s0 = np.random.multivariate_normal(np.zeros(21), 100*np.eye(21))\n",
    "    best_score = game_simulation.simulation(s0)\n",
    "\n",
    "\n",
    "    for i in range(N_iteration):\n",
    "        neighbour = s0 + np.random.multivariate_normal(np.zeros(21), np.eye(21))*step_size\n",
    "        score_neighbour = game_simulation.simulation(neighbour)\n",
    "        \n",
    "        delta = score_neighbour - best_score\n",
    "        if delta > 0:\n",
    "            s0, best_score = neighbour, score_neighbour\n",
    "        else:\n",
    "            t = temp / float(i+1)\n",
    "            metropolis = exp(delta/t)\n",
    "            if np.random.rand() < metropolis:\n",
    "                s0, best_score = neighbour, score_neighbour\n",
    "        \n",
    "        test_scores = []\n",
    "        for _ in range(10):\n",
    "            test_scores.append(game_simulation.simulation(s0))\n",
    "\n",
    "        \n",
    "        learning_curve.append(np.mean(test_scores))\n",
    "        print(\"Iteration {}: Average score : {}\".format(i+1, learning_curve[-1]))\n",
    "    \n",
    "    return learning_curve\n",
    "\n",
    "\n",
    "print(simulation_SA(100, 10, 20))  \n"
   ]
  },
  {
   "cell_type": "code",
   "execution_count": 9,
   "metadata": {},
   "outputs": [],
   "source": [
    "def SA(cooling, n_iteration, n_samples, rho):\n",
    "\n",
    "    mean = np.zeros(21)\n",
    "    cov = 100 * np.eye(21)\n",
    "    learning_curve = []\n",
    "    T = 10 # Initial Temperature\n",
    "    \n",
    "    for j in range(n_iteration):\n",
    "        s0 = np.random.multivariate_normal(mean, cov, n_samples)\n",
    "        s_neighbour = s0 + np.random.multivariate_normal(np.zeros(21), 50*np.eye(21), n_samples)\n",
    "        scores = [simulation(sample) for sample in s0]\n",
    "        scores_neighbour = [simulation(sample) for sample in s_neighbour]\n",
    "\n",
    "        best_indexes = np.argsort(scores)[-int(n_samples * rho):]\n",
    "        best_samples = s0[best_indexes]\n",
    "        best_scores = np.array(scores)[best_indexes]\n",
    "\n",
    "        best_indexes = np.argsort(scores_neighbour)[-int(n_samples * rho):]\n",
    "        best_neighbours = s_neighbour[best_indexes]\n",
    "        best_scores_neighbour = np.array(scores_neighbour)[best_indexes]\n",
    "\n",
    "        theta = np.mean(best_scores) - np.mean(best_scores_neighbour)\n",
    "        if theta < 0:\n",
    "            s0 = s_neighbour\n",
    "            best_samples = best_neighbours\n",
    "        else:\n",
    "            p = math.exp(-theta/T)\n",
    "            u = np.random.random()\n",
    "            if u < p:\n",
    "                s0 = s_neighbour\n",
    "                best_samples = best_neighbours\n",
    "\n",
    "        mean = np.mean(best_samples, axis = 0)\n",
    "        cov =  np.cov(best_samples, rowvar = False, bias=True)\n",
    "\n",
    "    \n",
    "\n",
    "        test_scores = []\n",
    "        for _ in range(30):\n",
    "            test_scores.append(simulation(mean))\n",
    "\n",
    "        learning_curve.append(np.mean(test_scores))\n",
    "        print(\"Iteration {}: Average score : {}\".format(j+1, learning_curve[-1]))\n",
    "\n",
    "\n",
    "        T *= cooling\n",
    "        \n",
    "    return(learning_curve)\n"
   ]
  },
  {
   "cell_type": "code",
   "execution_count": 10,
   "metadata": {},
   "outputs": [
    {
     "name": "stdout",
     "output_type": "stream",
     "text": [
      "Iteration 1: Average score : 0.5666666666666667\n",
      "Iteration 2: Average score : 3.933333333333333\n",
      "Iteration 3: Average score : 4.0\n",
      "Iteration 4: Average score : 7.633333333333334\n",
      "Iteration 5: Average score : 12.4\n",
      "Iteration 6: Average score : 11.033333333333333\n",
      "Iteration 7: Average score : 10.633333333333333\n"
     ]
    },
    {
     "ename": "KeyboardInterrupt",
     "evalue": "",
     "output_type": "error",
     "traceback": [
      "\u001b[1;31m---------------------------------------------------------------------------\u001b[0m",
      "\u001b[1;31mKeyboardInterrupt\u001b[0m                         Traceback (most recent call last)",
      "Cell \u001b[1;32mIn[10], line 1\u001b[0m\n\u001b[1;32m----> 1\u001b[0m curve \u001b[38;5;241m=\u001b[39m \u001b[43mSA\u001b[49m\u001b[43m(\u001b[49m\u001b[38;5;241;43m.5\u001b[39;49m\u001b[43m,\u001b[49m\u001b[43m \u001b[49m\u001b[38;5;241;43m50\u001b[39;49m\u001b[43m,\u001b[49m\u001b[43m \u001b[49m\u001b[38;5;241;43m50\u001b[39;49m\u001b[43m,\u001b[49m\u001b[43m \u001b[49m\u001b[38;5;241;43m.1\u001b[39;49m\u001b[43m)\u001b[49m\n",
      "Cell \u001b[1;32mIn[9], line 11\u001b[0m, in \u001b[0;36mSA\u001b[1;34m(cooling, n_iteration, n_samples, rho)\u001b[0m\n\u001b[0;32m      9\u001b[0m s0 \u001b[38;5;241m=\u001b[39m np\u001b[38;5;241m.\u001b[39mrandom\u001b[38;5;241m.\u001b[39mmultivariate_normal(mean, cov, n_samples)\n\u001b[0;32m     10\u001b[0m s_neighbour \u001b[38;5;241m=\u001b[39m s0 \u001b[38;5;241m+\u001b[39m np\u001b[38;5;241m.\u001b[39mrandom\u001b[38;5;241m.\u001b[39mmultivariate_normal(np\u001b[38;5;241m.\u001b[39mzeros(\u001b[38;5;241m21\u001b[39m), \u001b[38;5;241m50\u001b[39m\u001b[38;5;241m*\u001b[39mnp\u001b[38;5;241m.\u001b[39meye(\u001b[38;5;241m21\u001b[39m), n_samples)\n\u001b[1;32m---> 11\u001b[0m scores \u001b[38;5;241m=\u001b[39m \u001b[43m[\u001b[49m\u001b[43msimulation\u001b[49m\u001b[43m(\u001b[49m\u001b[43msample\u001b[49m\u001b[43m)\u001b[49m\u001b[43m \u001b[49m\u001b[38;5;28;43;01mfor\u001b[39;49;00m\u001b[43m \u001b[49m\u001b[43msample\u001b[49m\u001b[43m \u001b[49m\u001b[38;5;129;43;01min\u001b[39;49;00m\u001b[43m \u001b[49m\u001b[43ms0\u001b[49m\u001b[43m]\u001b[49m\n\u001b[0;32m     12\u001b[0m scores_neighbour \u001b[38;5;241m=\u001b[39m [simulation(sample) \u001b[38;5;28;01mfor\u001b[39;00m sample \u001b[38;5;129;01min\u001b[39;00m s_neighbour]\n\u001b[0;32m     14\u001b[0m best_indexes \u001b[38;5;241m=\u001b[39m np\u001b[38;5;241m.\u001b[39margsort(scores)[\u001b[38;5;241m-\u001b[39m\u001b[38;5;28mint\u001b[39m(n_samples \u001b[38;5;241m*\u001b[39m rho):]\n",
      "Cell \u001b[1;32mIn[9], line 11\u001b[0m, in \u001b[0;36m<listcomp>\u001b[1;34m(.0)\u001b[0m\n\u001b[0;32m      9\u001b[0m s0 \u001b[38;5;241m=\u001b[39m np\u001b[38;5;241m.\u001b[39mrandom\u001b[38;5;241m.\u001b[39mmultivariate_normal(mean, cov, n_samples)\n\u001b[0;32m     10\u001b[0m s_neighbour \u001b[38;5;241m=\u001b[39m s0 \u001b[38;5;241m+\u001b[39m np\u001b[38;5;241m.\u001b[39mrandom\u001b[38;5;241m.\u001b[39mmultivariate_normal(np\u001b[38;5;241m.\u001b[39mzeros(\u001b[38;5;241m21\u001b[39m), \u001b[38;5;241m50\u001b[39m\u001b[38;5;241m*\u001b[39mnp\u001b[38;5;241m.\u001b[39meye(\u001b[38;5;241m21\u001b[39m), n_samples)\n\u001b[1;32m---> 11\u001b[0m scores \u001b[38;5;241m=\u001b[39m [\u001b[43msimulation\u001b[49m\u001b[43m(\u001b[49m\u001b[43msample\u001b[49m\u001b[43m)\u001b[49m \u001b[38;5;28;01mfor\u001b[39;00m sample \u001b[38;5;129;01min\u001b[39;00m s0]\n\u001b[0;32m     12\u001b[0m scores_neighbour \u001b[38;5;241m=\u001b[39m [simulation(sample) \u001b[38;5;28;01mfor\u001b[39;00m sample \u001b[38;5;129;01min\u001b[39;00m s_neighbour]\n\u001b[0;32m     14\u001b[0m best_indexes \u001b[38;5;241m=\u001b[39m np\u001b[38;5;241m.\u001b[39margsort(scores)[\u001b[38;5;241m-\u001b[39m\u001b[38;5;28mint\u001b[39m(n_samples \u001b[38;5;241m*\u001b[39m rho):]\n",
      "File \u001b[1;32m~\\Desktop\\Tetris\\learning_tetris\\game_code\\game_simulation.py:98\u001b[0m, in \u001b[0;36msimulation\u001b[1;34m(W)\u001b[0m\n\u001b[0;32m     95\u001b[0m \u001b[38;5;28mtype\u001b[39m \u001b[38;5;241m=\u001b[39m np\u001b[38;5;241m.\u001b[39mrandom\u001b[38;5;241m.\u001b[39mrandint(\u001b[38;5;241m0\u001b[39m,\u001b[38;5;241m6\u001b[39m)\n\u001b[0;32m     96\u001b[0m game\u001b[38;5;241m.\u001b[39mnew_figure(\u001b[38;5;28mtype\u001b[39m)\n\u001b[1;32m---> 98\u001b[0m col, rot \u001b[38;5;241m=\u001b[39m \u001b[43mevaluate_best_move\u001b[49m\u001b[43m(\u001b[49m\u001b[43mW\u001b[49m\u001b[43m,\u001b[49m\u001b[43mgame\u001b[49m\u001b[38;5;241;43m.\u001b[39;49m\u001b[43mfield\u001b[49m\u001b[43m,\u001b[49m\u001b[38;5;28;43mtype\u001b[39;49m\u001b[43m)\u001b[49m\n\u001b[0;32m     99\u001b[0m game\u001b[38;5;241m.\u001b[39mrotate(rot)\n\u001b[0;32m    100\u001b[0m game\u001b[38;5;241m.\u001b[39mgo_side(col)\n",
      "File \u001b[1;32m~\\Desktop\\Tetris\\learning_tetris\\game_code\\game_simulation.py:77\u001b[0m, in \u001b[0;36mevaluate_best_move\u001b[1;34m(W, field, type)\u001b[0m\n\u001b[0;32m     73\u001b[0m game_copy\u001b[38;5;241m.\u001b[39mrotate(k)\n\u001b[0;32m     74\u001b[0m game_copy\u001b[38;5;241m.\u001b[39mgo_side(col) \n\u001b[1;32m---> 77\u001b[0m \u001b[38;5;28;01mif\u001b[39;00m \u001b[38;5;129;01mnot\u001b[39;00m \u001b[43mgame_copy\u001b[49m\u001b[38;5;241;43m.\u001b[39;49m\u001b[43mintersects\u001b[49m\u001b[43m(\u001b[49m\u001b[43m)\u001b[49m:\n\u001b[0;32m     78\u001b[0m     game_copy\u001b[38;5;241m.\u001b[39mgo_space()\n\u001b[0;32m     79\u001b[0m     score\u001b[38;5;241m.\u001b[39mappend(evaluate(W,game_copy\u001b[38;5;241m.\u001b[39mfield))\n",
      "File \u001b[1;32m~\\Desktop\\Tetris\\learning_tetris\\game_code\\tetris.py:73\u001b[0m, in \u001b[0;36mTetris.intersects\u001b[1;34m(self)\u001b[0m\n\u001b[0;32m     71\u001b[0m \u001b[38;5;28;01mfor\u001b[39;00m i \u001b[38;5;129;01min\u001b[39;00m \u001b[38;5;28mrange\u001b[39m(\u001b[38;5;241m4\u001b[39m):\n\u001b[0;32m     72\u001b[0m     \u001b[38;5;28;01mfor\u001b[39;00m j \u001b[38;5;129;01min\u001b[39;00m \u001b[38;5;28mrange\u001b[39m(\u001b[38;5;241m4\u001b[39m):\n\u001b[1;32m---> 73\u001b[0m         \u001b[38;5;28;01mif\u001b[39;00m i \u001b[38;5;241m*\u001b[39m \u001b[38;5;241m4\u001b[39m \u001b[38;5;241m+\u001b[39m j \u001b[38;5;129;01min\u001b[39;00m \u001b[38;5;28;43mself\u001b[39;49m\u001b[38;5;241;43m.\u001b[39;49m\u001b[43mfigure\u001b[49m\u001b[38;5;241;43m.\u001b[39;49m\u001b[43mimage\u001b[49m\u001b[43m(\u001b[49m\u001b[43m)\u001b[49m:\n\u001b[0;32m     74\u001b[0m             \u001b[38;5;28;01mif\u001b[39;00m i \u001b[38;5;241m+\u001b[39m \u001b[38;5;28mself\u001b[39m\u001b[38;5;241m.\u001b[39mfigure\u001b[38;5;241m.\u001b[39my \u001b[38;5;241m>\u001b[39m \u001b[38;5;28mself\u001b[39m\u001b[38;5;241m.\u001b[39mheight \u001b[38;5;241m-\u001b[39m \u001b[38;5;241m1\u001b[39m \u001b[38;5;129;01mor\u001b[39;00m \\\n\u001b[0;32m     75\u001b[0m                     j \u001b[38;5;241m+\u001b[39m \u001b[38;5;28mself\u001b[39m\u001b[38;5;241m.\u001b[39mfigure\u001b[38;5;241m.\u001b[39mx \u001b[38;5;241m>\u001b[39m \u001b[38;5;28mself\u001b[39m\u001b[38;5;241m.\u001b[39mwidth \u001b[38;5;241m-\u001b[39m \u001b[38;5;241m1\u001b[39m \u001b[38;5;129;01mor\u001b[39;00m \\\n\u001b[0;32m     76\u001b[0m                     j \u001b[38;5;241m+\u001b[39m \u001b[38;5;28mself\u001b[39m\u001b[38;5;241m.\u001b[39mfigure\u001b[38;5;241m.\u001b[39mx \u001b[38;5;241m<\u001b[39m \u001b[38;5;241m0\u001b[39m \u001b[38;5;129;01mor\u001b[39;00m \\\n\u001b[0;32m     77\u001b[0m                     \u001b[38;5;28mself\u001b[39m\u001b[38;5;241m.\u001b[39mfield[i \u001b[38;5;241m+\u001b[39m \u001b[38;5;28mself\u001b[39m\u001b[38;5;241m.\u001b[39mfigure\u001b[38;5;241m.\u001b[39my][j \u001b[38;5;241m+\u001b[39m \u001b[38;5;28mself\u001b[39m\u001b[38;5;241m.\u001b[39mfigure\u001b[38;5;241m.\u001b[39mx] \u001b[38;5;241m>\u001b[39m \u001b[38;5;241m0\u001b[39m:\n\u001b[0;32m     78\u001b[0m                 intersection \u001b[38;5;241m=\u001b[39m \u001b[38;5;28;01mTrue\u001b[39;00m\n",
      "File \u001b[1;32m~\\Desktop\\Tetris\\learning_tetris\\game_code\\tetris.py:35\u001b[0m, in \u001b[0;36mFigure.image\u001b[1;34m(self)\u001b[0m\n\u001b[0;32m     32\u001b[0m     \u001b[38;5;28mself\u001b[39m\u001b[38;5;241m.\u001b[39mtype \u001b[38;5;241m=\u001b[39m \u001b[38;5;28mtype\u001b[39m\n\u001b[0;32m     33\u001b[0m     \u001b[38;5;28mself\u001b[39m\u001b[38;5;241m.\u001b[39mrotation \u001b[38;5;241m=\u001b[39m \u001b[38;5;241m0\u001b[39m\n\u001b[1;32m---> 35\u001b[0m \u001b[38;5;28;01mdef\u001b[39;00m \u001b[38;5;21mimage\u001b[39m(\u001b[38;5;28mself\u001b[39m):\n\u001b[0;32m     36\u001b[0m     \u001b[38;5;28;01mreturn\u001b[39;00m \u001b[38;5;28mself\u001b[39m\u001b[38;5;241m.\u001b[39mfigures[\u001b[38;5;28mself\u001b[39m\u001b[38;5;241m.\u001b[39mtype][\u001b[38;5;28mself\u001b[39m\u001b[38;5;241m.\u001b[39mrotation]\n\u001b[0;32m     38\u001b[0m \u001b[38;5;28;01mdef\u001b[39;00m \u001b[38;5;21mrotate\u001b[39m(\u001b[38;5;28mself\u001b[39m, k):\n",
      "\u001b[1;31mKeyboardInterrupt\u001b[0m: "
     ]
    }
   ],
   "source": [
    "curve = SA(.5, 50, 50, .1)\n",
    "\n"
   ]
  }
 ],
 "metadata": {
  "kernelspec": {
   "display_name": "Python 3",
   "language": "python",
   "name": "python3"
  },
  "language_info": {
   "codemirror_mode": {
    "name": "ipython",
    "version": 3
   },
   "file_extension": ".py",
   "mimetype": "text/x-python",
   "name": "python",
   "nbconvert_exporter": "python",
   "pygments_lexer": "ipython3",
   "version": "3.11.4"
  }
 },
 "nbformat": 4,
 "nbformat_minor": 2
}
