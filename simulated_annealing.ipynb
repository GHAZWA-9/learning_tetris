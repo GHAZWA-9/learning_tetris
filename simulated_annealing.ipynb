{
 "cells": [
  {
   "cell_type": "markdown",
   "metadata": {},
   "source": [
    "This notebook is an implementation to the Simulated Annealing algorithm applied to Tetris game.\n",
    "It is an alternative to the CE global optimization method.\n"
   ]
  },
  {
   "cell_type": "code",
   "execution_count": 5,
   "metadata": {},
   "outputs": [],
   "source": [
    "from math import exp\n",
    "import random\n",
    "import numpy as np\n",
    "import os\n",
    "os.chdir(\"/Users/ghazw/Desktop/MC project/learning_tetris/game_code\")\n",
    "from game_simulation import *\n",
    "\n",
    "import matplotlib.pyplot as plt\n",
    "np.random.seed(42)"
   ]
  },
  {
   "cell_type": "code",
   "execution_count": 11,
   "metadata": {},
   "outputs": [],
   "source": [
    "# Number of samples\n",
    "N = 50\n",
    "T = 100 #chose a high temperature to make the proba small\n",
    "iterations = 50\n",
    "num_games = 30\n",
    "a=0.1 #temperature_update_rate\n",
    "tol=0.1\n",
    "\n",
    "def SA (iteration,N,T,num_games,tol,a):\n",
    "          mu0 = np.zeros(21)\n",
    "          Sigma = 100 * np.eye(21)\n",
    "          t=0\n",
    "          learning_curve =[]\n",
    "          delta_s=1\n",
    "          samples = np.random.multivariate_normal(mu0, Sigma, N)\n",
    "          while(t<iterations) or (abs(delta_s)>tol):             \n",
    "            #generate new vectorS samples' modified slightly relatively to samples\n",
    "            samples_p=np.array([sample +np.random.normal(0,1.0,21) for sample in samples])\n",
    "            # or this samples_p=np.array([sample +np.random.uniform(-1, 1, 21) for sample in samples]) #facultatif\n",
    "\n",
    "            # Evaluate each sample with the score function (game simulation)\n",
    "            scores =np.mean( np.array([simulation(sample) for sample in samples]))\n",
    "            scores_p=np.mean( np.array([simulation(sample) for sample in samples_p]))\n",
    "            delta_s=scores_p-scores\n",
    "            if (delta_s >0) or (random.random() <exp(delta_s/T)):\n",
    "                    samples=samples_p\n",
    "            \n",
    "            mu0= np.mean(samples, axis=0)\n",
    "            Sigma=  np.cov(samples, rowvar = False)\n",
    "            game_scores = [simulation(mu0) for _ in range(num_games)]\n",
    "            learning_curve.append(np.mean(game_scores))\n",
    "            t=t+1\n",
    "            #cooling Temperature \n",
    "            T=T/(1+a*t)\n",
    "            if t%10==0 : \n",
    "               print(\"Iteration {}: Average score : {}\".format(t+1,learning_curve[-1]))\n",
    "            return(learning_curve)   \n",
    "        \n",
    "            \n",
    "           \n",
    "\n"
   ]
  }
 ],
 "metadata": {
  "kernelspec": {
   "display_name": "Python 3",
   "language": "python",
   "name": "python3"
  },
  "language_info": {
   "codemirror_mode": {
    "name": "ipython",
    "version": 3
   },
   "file_extension": ".py",
   "mimetype": "text/x-python",
   "name": "python",
   "nbconvert_exporter": "python",
   "pygments_lexer": "ipython3",
   "version": "3.12.3"
  }
 },
 "nbformat": 4,
 "nbformat_minor": 2
}
